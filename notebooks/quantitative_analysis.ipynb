{
 "cells": [
  {
   "cell_type": "code",
   "execution_count": null,
   "metadata": {},
   "outputs": [],
   "source": [
    "%env CUDA_VISIBLE_DEVICES=1\n",
    "%load_ext autoreload\n",
    "%autoreload 2\n",
    "import sys\n",
    "sys.path.append(\"..\")"
   ]
  },
  {
   "cell_type": "code",
   "execution_count": null,
   "metadata": {},
   "outputs": [],
   "source": [
    "import torch\n",
    "\n",
    "distances_dino_diff = torch.load(\"../analysis_data/distances_dino_diff.pt\")\n",
    "distances_diff = torch.load(\"../analysis_data/distances_diff.pt\")\n",
    "distances_dino = torch.load(\"../analysis_data/distances_dino.pt\")\n",
    "distances_dino_s = torch.load(\"../analysis_data/distances_dino_s.pt\")\n",
    "#distances_clip = torch.load(\"../analysis_data/distances_clip.pt\")"
   ]
  },
  {
   "cell_type": "code",
   "execution_count": null,
   "metadata": {},
   "outputs": [],
   "source": [
    "import matplotlib.pyplot as plt\n",
    "\n",
    "plt.figure(figsize=(10, 5))\n",
    "\n",
    "x_thresh = 0.1 * 768\n",
    "\n",
    "max = 1000\n",
    "bins = 100\n",
    "print(distances_dino_diff.max(), distances_dino_diff.min())\n",
    "#dino_diff_hist = torch.histc(distances_dino_diff.float(), bins=bins, min=0, max=max)\n",
    "diff_hist = torch.histc(distances_diff.float(), bins=bins, min=0, max=max)\n",
    "dino_hist = torch.histc(distances_dino.float(), bins=bins, min=0, max=max)\n",
    "#dino_hist_s = torch.histc(distances_dino_s.float(), bins=bins, min=0, max=max)\n",
    "#clip_hist = torch.histc(distances_clip.float(), bins=100, min=0, max=max)\n",
    "\n",
    "plt.plot(diff_hist, label=\"ADD-XL\")\n",
    "plt.plot(dino_hist, label=\"DINOv2 B/14\")\n",
    "#plt.plot(dino_diff_hist, label=\"DINOv2 B/14 and ADD-XL\")\n",
    "#plt.plot(dino_hist_s, label=\"DINOv2 B/14 336x336\")\n",
    "#plt.plot(clip_hist, label=\"CLIP L/14\")\n",
    "\n",
    "# draw vertical line at threshold\n",
    "plt.axvline(x = (x_thresh / max) * bins, color = 'r', label = 'img 0.1 threshold')\n",
    "\n",
    "print(diff_hist[:int((x_thresh / max) * bins)].sum() / diff_hist.sum())\n",
    "print(dino_hist[:int((x_thresh / max) * bins)].sum() / dino_hist.sum())\n",
    "\n",
    "plt.legend()\n",
    "plt.show()"
   ]
  },
  {
   "cell_type": "code",
   "execution_count": null,
   "metadata": {},
   "outputs": [],
   "source": [
    "similarity_map_hists_diff = torch.load(\"../analysis_data/histograms_diff.pt\")\n",
    "similarity_map_hists_dino = torch.load(\"../analysis_data/histograms_dino.pt\")\n",
    "similarity_map_hists_dino_diff = torch.load(\"../analysis_data/histograms_dino_diff.pt\")\n",
    "similarity_map_hists_dino_s = torch.load(\"../analysis_data/histograms_dino_s.pt\")\n",
    "\n",
    "plt.figure(figsize=(10, 5))\n",
    "plt.plot(similarity_map_hists_diff, label=\"ADD-XL\")\n",
    "plt.plot(similarity_map_hists_dino, label=\"DINOv2 B/14\")\n",
    "plt.plot(similarity_map_hists_dino_diff, label=\"DINOv2 B/14 and ADD-XL\")\n",
    "plt.plot(similarity_map_hists_dino_s, label=\"DINOv2 B/14 336x336\")\n",
    "plt.legend()\n",
    "plt.show()"
   ]
  },
  {
   "cell_type": "code",
   "execution_count": null,
   "metadata": {},
   "outputs": [],
   "source": [
    "# Aggregate correct part and subpart predictions\n",
    "# Visualize the results\n",
    "\n",
    "from datasets.correspondence import S2K\n",
    "\n",
    "dataset = S2K({\n",
    "    \"path\": \"/export/group/datasets/PASCAL-Part\",\n",
    "})"
   ]
  }
 ],
 "metadata": {
  "kernelspec": {
   "display_name": "distilldift",
   "language": "python",
   "name": "python3"
  },
  "language_info": {
   "codemirror_mode": {
    "name": "ipython",
    "version": 3
   },
   "file_extension": ".py",
   "mimetype": "text/x-python",
   "name": "python",
   "nbconvert_exporter": "python",
   "pygments_lexer": "ipython3",
   "version": "3.1.0"
  }
 },
 "nbformat": 4,
 "nbformat_minor": 2
}
