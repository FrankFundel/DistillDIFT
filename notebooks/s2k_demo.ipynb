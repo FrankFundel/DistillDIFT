{
 "cells": [
  {
   "cell_type": "code",
   "execution_count": null,
   "metadata": {},
   "outputs": [],
   "source": [
    "%env CUDA_VISIBLE_DEVICES=1\n",
    "%load_ext autoreload\n",
    "%autoreload 2\n",
    "import sys\n",
    "sys.path.append(\"..\")"
   ]
  },
  {
   "cell_type": "code",
   "execution_count": null,
   "metadata": {},
   "outputs": [],
   "source": [
    "from datasets.correspondence import S2K\n",
    "\n",
    "dataset = S2K({\n",
    "    \"path\": \"/export/group/datasets/PASCAL-Part\",\n",
    "})"
   ]
  },
  {
   "cell_type": "code",
   "execution_count": null,
   "metadata": {},
   "outputs": [],
   "source": [
    "import matplotlib.pyplot as plt\n",
    "import numpy as np\n",
    "\n",
    "def generate_part_class_to_color_map(annotations):\n",
    "    unique_part_classes = set(part['class'] for part in annotations)\n",
    "    cmap = plt.cm.get_cmap('hsv', len(unique_part_classes) + 1)  # +1 to ensure enough colors\n",
    "    part_class_to_color = {part_class: cmap(i)[:3] + (0.5,) for i, part_class in enumerate(unique_part_classes)}\n",
    "    return part_class_to_color\n",
    "\n",
    "def plot_image_and_masks(image, annotations, uparts, part_class_to_color):\n",
    "    plt.imshow(image)\n",
    "    plt.title(annotations['class'] + ': ' + ', '.join([part['class'] for part in [annotations['parts'][i] for i in uparts]]))\n",
    "    \n",
    "    for part in [annotations['parts'][i] for i in uparts]:\n",
    "        part_mask = part['mask']\n",
    "        colored_part_mask = np.zeros((part_mask.shape[0], part_mask.shape[1], 4))\n",
    "        color = part_class_to_color.get(part['class'], np.random.rand(3,).tolist() + [0.5])  # Ensures transparency\n",
    "        colored_part_mask[part_mask == 1] = color\n",
    "        plt.imshow(colored_part_mask, interpolation='nearest')\n",
    "\n",
    "# Sample dataset\n",
    "for i in [0, 25, 60, 80]:\n",
    "    sample = dataset[i]\n",
    "    \n",
    "    # Combine annotations to generate a comprehensive part-to-color mapping\n",
    "    combined_annotations = sample[\"source_annotation\"]['parts'] + sample[\"target_annotation\"]['parts']\n",
    "    part_class_to_color = generate_part_class_to_color_map(combined_annotations)\n",
    "\n",
    "    plt.figure(figsize=(20, 10))\n",
    "\n",
    "    # Plot source image and masks\n",
    "    plt.subplot(1, 2, 1)\n",
    "    plot_image_and_masks(sample[\"source_image\"], sample[\"source_annotation\"], sample['source_parts'], part_class_to_color)\n",
    "\n",
    "    # Plot target image and masks\n",
    "    plt.subplot(1, 2, 2)\n",
    "    plot_image_and_masks(sample[\"target_image\"], sample[\"target_annotation\"], sample['target_parts'], part_class_to_color)\n",
    "\n",
    "    plt.show()"
   ]
  }
 ],
 "metadata": {
  "kernelspec": {
   "display_name": "distilldift",
   "language": "python",
   "name": "python3"
  },
  "language_info": {
   "codemirror_mode": {
    "name": "ipython",
    "version": 3
   },
   "file_extension": ".py",
   "mimetype": "text/x-python",
   "name": "python",
   "nbconvert_exporter": "python",
   "pygments_lexer": "ipython3",
   "version": "3.11.5"
  }
 },
 "nbformat": 4,
 "nbformat_minor": 2
}
