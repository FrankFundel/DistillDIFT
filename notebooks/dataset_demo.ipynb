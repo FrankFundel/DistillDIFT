{
 "cells": [
  {
   "cell_type": "code",
   "execution_count": null,
   "metadata": {},
   "outputs": [],
   "source": [
    "%load_ext autoreload\n",
    "%autoreload 2\n",
    "import sys\n",
    "sys.path.append(\"..\")"
   ]
  },
  {
   "cell_type": "markdown",
   "metadata": {},
   "source": [
    "# Exploring Datasets"
   ]
  },
  {
   "cell_type": "markdown",
   "metadata": {},
   "source": [
    "There are seperate dataset classes and download bash scripts for each evaluation dataset.\n",
    "\n",
    "Additionally, datasets can be preprocessed into HDF5 files (see README) and loaded with the PreprocessedDataset class."
   ]
  },
  {
   "cell_type": "code",
   "execution_count": null,
   "metadata": {},
   "outputs": [],
   "source": [
    "from utils.visualization import display_image_pair\n",
    "from utils.dataset import read_dataset_config, load_dataset"
   ]
  },
  {
   "cell_type": "code",
   "execution_count": null,
   "metadata": {},
   "outputs": [],
   "source": [
    "show_bbox = True\n",
    "\n",
    "# Load the dataset config\n",
    "dataset_config = read_dataset_config('../dataset_config.yaml')\n",
    "\n",
    "for dataset_name in list(dataset_config.keys())[:5]: # only correspondence datasets\n",
    "    # Load the dataset\n",
    "    dataset_config[dataset_name][\"num_samples\"] = 1\n",
    "    dataset = load_dataset(dataset_name, dataset_config[dataset_name])\n",
    "\n",
    "    # Get the first image pair from each dataset\n",
    "    image_pair = dataset[0]\n",
    "\n",
    "    # Display the image pair\n",
    "    print(f\"Displaying image pair from dataset: {dataset_name}\")\n",
    "    display_image_pair(image_pair, show_bbox=show_bbox)"
   ]
  },
  {
   "cell_type": "code",
   "execution_count": null,
   "metadata": {},
   "outputs": [],
   "source": [
    "# Load the dataset config\n",
    "dataset_config = read_dataset_config('../dataset_config.yaml')\n",
    "dataset_name = \"CO3D\"\n",
    "dataset_config[dataset_name][\"num_samples\"] = 1\n",
    "dataset = load_dataset(dataset_name, dataset_config[dataset_name])"
   ]
  },
  {
   "cell_type": "code",
   "execution_count": null,
   "metadata": {},
   "outputs": [],
   "source": [
    "import torch\n",
    "\n",
    "# Print random image pairs from the dataset\n",
    "for i in torch.randperm(len(dataset))[:20]:\n",
    "    image_pair = dataset[i]\n",
    "    display_image_pair(image_pair, show_bbox=False)"
   ]
  }
 ],
 "metadata": {
  "kernelspec": {
   "display_name": "Python 3 (ipykernel)",
   "language": "python",
   "name": "python3"
  },
  "language_info": {
   "codemirror_mode": {
    "name": "ipython",
    "version": 3
   },
   "file_extension": ".py",
   "mimetype": "text/x-python",
   "name": "python",
   "nbconvert_exporter": "python",
   "pygments_lexer": "ipython3",
   "version": "3.9.19"
  }
 },
 "nbformat": 4,
 "nbformat_minor": 2
}
