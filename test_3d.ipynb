{
 "cells": [
  {
   "cell_type": "markdown",
   "metadata": {},
   "source": [
    "## Semantic Correspondence with Synthetic 3D Data"
   ]
  },
  {
   "cell_type": "code",
   "execution_count": null,
   "metadata": {},
   "outputs": [],
   "source": [
    "import os\n",
    "import torch\n",
    "from pytorch3d.implicitron.tools.config import expand_args_fields\n",
    "from pytorch3d.implicitron.dataset.json_index_dataset import JsonIndexDataset\n",
    "from pytorch3d.implicitron.dataset.visualize import get_implicitron_sequence_pointcloud\n",
    "from pytorch3d.implicitron.tools.point_cloud_utils import render_point_cloud_pytorch3d\n",
    "\n",
    "# Setup dataset root and paths\n",
    "_CO3DV2_DATASET_ROOT = \"/export/group/datasets/co3d\"\n",
    "category = \"skateboard\"\n",
    "dataset_root = _CO3DV2_DATASET_ROOT\n",
    "frame_file = os.path.join(dataset_root, category, \"frame_annotations.jgz\")\n",
    "sequence_file = os.path.join(dataset_root, category, \"sequence_annotations.jgz\")\n",
    "image_size = 256\n",
    "\n",
    "# Initialize dataset\n",
    "expand_args_fields(JsonIndexDataset)\n",
    "dataset = JsonIndexDataset(\n",
    "    frame_annotations_file=frame_file,\n",
    "    sequence_annotations_file=sequence_file,\n",
    "    dataset_root=dataset_root,\n",
    "    image_height=image_size,\n",
    "    image_width=image_size,\n",
    "    load_point_clouds=True,\n",
    "    box_crop=False,\n",
    "    mask_images=False,\n",
    "    load_images=True,\n",
    "    load_masks=True\n",
    ")\n",
    "\n",
    "# Load a point cloud and camera info for visualization\n",
    "sequence_name = list(dataset.seq_annots.keys())[0]  # Use the first sequence\n",
    "point_cloud, sequence_frame_data = get_implicitron_sequence_pointcloud(\n",
    "    dataset,\n",
    "    sequence_name=sequence_name,\n",
    "    mask_points=True,\n",
    "    max_frames=16,\n",
    "    num_workers=1,\n",
    "    load_dataset_point_cloud=True,\n",
    ")\n",
    "\n",
    "# Render the point cloud (simplified for illustration)\n",
    "device = torch.device(\"cuda:0\" if torch.cuda.is_available() else \"cpu\")\n",
    "point_cloud = point_cloud.to(device)\n",
    "camera = sequence_frame_data.camera.to(device)[0]  # Use the first camera view for simplicity\n",
    "\n",
    "image_render, _, _ = render_point_cloud_pytorch3d(\n",
    "    camera,\n",
    "    point_cloud,\n",
    "    render_size=(image_size, image_size),\n",
    "    point_radius=2e-2,\n",
    "    topk=10,\n",
    "    bg_color=0.0,\n",
    "    bin_size=0,\n",
    ")\n",
    "\n",
    "image_render = image_render.clamp(0.0, 1.0).cpu()"
   ]
  },
  {
   "cell_type": "code",
   "execution_count": null,
   "metadata": {},
   "outputs": [],
   "source": [
    "from matplotlib import pyplot as plt\n",
    "fig, ax = plt.subplots(4, 4, figsize=(16, 16))\n",
    "for i in range(16):\n",
    "    ax[i // 4, i % 4].imshow(sequence_frame_data.image_rgb[i].permute(1, 2, 0))\n",
    "    ax[i // 4, i % 4].axis(\"off\")"
   ]
  },
  {
   "cell_type": "code",
   "execution_count": null,
   "metadata": {},
   "outputs": [],
   "source": [
    "from matplotlib import pyplot as plt\n",
    "fig, ax = plt.subplots(4, 4, figsize=(16, 16))\n",
    "for i in range(16):\n",
    "    ax[i // 4, i % 4].imshow(sequence_frame_data.depth_mask[i].permute(1, 2, 0))\n",
    "    ax[i // 4, i % 4].axis(\"off\")"
   ]
  },
  {
   "cell_type": "code",
   "execution_count": null,
   "metadata": {},
   "outputs": [],
   "source": [
    "from matplotlib import pyplot as plt\n",
    "plt.imshow(image_render[0].permute(1, 2, 0))\n",
    "plt.show()"
   ]
  },
  {
   "cell_type": "code",
   "execution_count": null,
   "metadata": {},
   "outputs": [],
   "source": [
    "# Zhang et al.:\n",
    "# 1) double flip: flipped source image and flipped target image\n",
    "# 2) single flip: flipped source image and original target image\n",
    "# 3) self flip: source image and flipped source image.\n",
    "# For setting 2 and 3, keypoint annotations are correspondingly flipped\n",
    "\n",
    "# Take an image from the sequence"
   ]
  }
 ],
 "metadata": {
  "kernelspec": {
   "display_name": "distilldift",
   "language": "python",
   "name": "python3"
  },
  "language_info": {
   "codemirror_mode": {
    "name": "ipython",
    "version": 3
   },
   "file_extension": ".py",
   "mimetype": "text/x-python",
   "name": "python",
   "nbconvert_exporter": "python",
   "pygments_lexer": "ipython3",
   "version": "3.11.5"
  }
 },
 "nbformat": 4,
 "nbformat_minor": 2
}
